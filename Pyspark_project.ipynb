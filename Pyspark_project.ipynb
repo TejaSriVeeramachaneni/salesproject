{
  "nbformat": 4,
  "nbformat_minor": 0,
  "metadata": {
    "colab": {
      "provenance": []
    },
    "kernelspec": {
      "name": "python3",
      "display_name": "Python 3"
    },
    "language_info": {
      "name": "python"
    }
  },
  "cells": [
    {
      "cell_type": "code",
      "execution_count": null,
      "metadata": {
        "colab": {
          "base_uri": "https://localhost:8080/"
        },
        "id": "DyRbVJmqPH5_",
        "outputId": "f7d42d84-652f-406a-f190-57f79b0dca3c"
      },
      "outputs": [
        {
          "output_type": "stream",
          "name": "stdout",
          "text": [
            "Requirement already satisfied: pyspark in /usr/local/lib/python3.11/dist-packages (3.5.5)\n",
            "Requirement already satisfied: py4j==0.10.9.7 in /usr/local/lib/python3.11/dist-packages (from pyspark) (0.10.9.7)\n"
          ]
        }
      ],
      "source": [
        "!pip install pyspark\n"
      ]
    },
    {
      "cell_type": "code",
      "source": [
        "from pyspark.sql.types import StructType, StructField, StringType, IntegerType, FloatType, DateType\n",
        "\n",
        "schema = StructType([\n",
        "    StructField(\"Invoice ID\", StringType(), True),\n",
        "    StructField(\"Branch\", StringType(), True),\n",
        "    StructField(\"City\", StringType(), True),\n",
        "    StructField(\"Customer type\", StringType(), True),\n",
        "    StructField(\"Gender\", StringType(), True),\n",
        "    StructField(\"Product line\", StringType(), True),\n",
        "    StructField(\"Unit price\", FloatType(), True),\n",
        "    StructField(\"Quantity\", IntegerType(), True),\n",
        "    StructField(\"Tax 5%\", FloatType(), True),\n",
        "    StructField(\"Total\", FloatType(), True),\n",
        "    StructField(\"Date\", StringType(), True),  # Will convert to DateType later\n",
        "    StructField(\"Time\", StringType(), True),\n",
        "    StructField(\"Payment\", StringType(), True),\n",
        "    StructField(\"cogs\", FloatType(), True),\n",
        "    StructField(\"gross margin percentage\", FloatType(), True),\n",
        "    StructField(\"gross income\", FloatType(), True),\n",
        "    StructField(\"Rating\", FloatType(), True)\n",
        "])\n"
      ],
      "metadata": {
        "id": "wjwEhj7JPRX5"
      },
      "execution_count": null,
      "outputs": []
    },
    {
      "cell_type": "markdown",
      "source": [
        "loading the data using the spark session"
      ],
      "metadata": {
        "id": "TOaQehquQcI-"
      }
    },
    {
      "cell_type": "code",
      "source": [
        "from pyspark.sql import SparkSession\n",
        "\n",
        "spark = SparkSession.builder.appName(\"RetailSales\").getOrCreate()\n",
        "\n",
        "df = spark.read.csv(\"/content/supermarket_sales - Sheet1.csv\", header=True, schema=schema)\n",
        "df.show(5)\n"
      ],
      "metadata": {
        "colab": {
          "base_uri": "https://localhost:8080/"
        },
        "id": "AEj5GtgYPeZh",
        "outputId": "a2564489-03b8-4ca6-960e-f272c84ae0e1"
      },
      "execution_count": null,
      "outputs": [
        {
          "output_type": "stream",
          "name": "stdout",
          "text": [
            "+-----------+------+---------+-------------+------+--------------------+----------+--------+-------+--------+---------+-----+-----------+------+-----------------------+------------+------+\n",
            "| Invoice ID|Branch|     City|Customer type|Gender|        Product line|Unit price|Quantity| Tax 5%|   Total|     Date| Time|    Payment|  cogs|gross margin percentage|gross income|Rating|\n",
            "+-----------+------+---------+-------------+------+--------------------+----------+--------+-------+--------+---------+-----+-----------+------+-----------------------+------------+------+\n",
            "|750-67-8428|     A|   Yangon|       Member|Female|   Health and beauty|     74.69|       7|26.1415|548.9715| 1/5/2019|13:08|    Ewallet|522.83|              4.7619047|     26.1415|   9.1|\n",
            "|226-31-3081|     C|Naypyitaw|       Normal|Female|Electronic access...|     15.28|       5|   3.82|   80.22| 3/8/2019|10:29|       Cash|  76.4|              4.7619047|        3.82|   9.6|\n",
            "|631-41-3108|     A|   Yangon|       Normal|  Male|  Home and lifestyle|     46.33|       7|16.2155|340.5255| 3/3/2019|13:23|Credit card|324.31|              4.7619047|     16.2155|   7.4|\n",
            "|123-19-1176|     A|   Yangon|       Member|  Male|   Health and beauty|     58.22|       8| 23.288| 489.048|1/27/2019|20:33|    Ewallet|465.76|              4.7619047|      23.288|   8.4|\n",
            "|373-73-7910|     A|   Yangon|       Normal|  Male|   Sports and travel|     86.31|       7|30.2085|634.3785| 2/8/2019|10:37|    Ewallet|604.17|              4.7619047|     30.2085|   5.3|\n",
            "+-----------+------+---------+-------------+------+--------------------+----------+--------+-------+--------+---------+-----+-----------+------+-----------------------+------------+------+\n",
            "only showing top 5 rows\n",
            "\n"
          ]
        }
      ]
    },
    {
      "cell_type": "markdown",
      "source": [
        "Drop duplcates"
      ],
      "metadata": {
        "id": "NN9oBApwSFFy"
      }
    },
    {
      "cell_type": "code",
      "source": [
        "df = df.drop_duplicates()\n",
        "df.show(15)"
      ],
      "metadata": {
        "colab": {
          "base_uri": "https://localhost:8080/"
        },
        "id": "mN6uvjLbRV7U",
        "outputId": "c9d9b4d9-179b-4fc4-e4be-37506c3602ec"
      },
      "execution_count": null,
      "outputs": [
        {
          "output_type": "stream",
          "name": "stdout",
          "text": [
            "+-----------+------+---------+-------------+------+--------------------+----------+--------+-------+--------+---------+-----+-----------+------+-----------------------+------------+------+\n",
            "| Invoice ID|Branch|     City|Customer type|Gender|        Product line|Unit price|Quantity| Tax 5%|   Total|     Date| Time|    Payment|  cogs|gross margin percentage|gross income|Rating|\n",
            "+-----------+------+---------+-------------+------+--------------------+----------+--------+-------+--------+---------+-----+-----------+------+-----------------------+------------+------+\n",
            "|563-91-7120|     A|   Yangon|       Normal|Female| Fashion accessories|     61.77|       5|15.4425|324.2925| 3/8/2019|13:21|       Cash|308.85|              4.7619047|     15.4425|   6.7|\n",
            "|633-09-3463|     C|Naypyitaw|       Normal|Female|Electronic access...|     47.65|       3| 7.1475|150.0975|3/28/2019|12:58|Credit card|142.95|              4.7619047|      7.1475|   9.5|\n",
            "|689-16-9784|     C|Naypyitaw|       Normal|  Male|  Food and beverages|     46.77|       6| 14.031| 294.651|3/11/2019|13:37|       Cash|280.62|              4.7619047|      14.031|   6.0|\n",
            "|676-39-6028|     A|   Yangon|       Member|Female|Electronic access...|     64.44|       5|  16.11|  338.31|3/30/2019|17:04|       Cash| 322.2|              4.7619047|       16.11|   6.6|\n",
            "|816-72-8853|     A|   Yangon|       Member|Female|   Sports and travel|     27.93|       5| 6.9825|146.6325|1/29/2019|15:48|       Cash|139.65|              4.7619047|      6.9825|   5.9|\n",
            "|191-10-6171|     B| Mandalay|       Normal|Female| Fashion accessories|     39.62|       7| 13.867| 291.207|1/25/2019|13:18|       Cash|277.34|              4.7619047|      13.867|   7.5|\n",
            "|144-51-6085|     A|   Yangon|       Member|  Male|  Home and lifestyle|     70.74|       4| 14.148| 297.108| 1/5/2019|16:05|Credit card|282.96|              4.7619047|      14.148|   4.4|\n",
            "|261-12-8671|     B| Mandalay|       Normal|Female| Fashion accessories|     60.96|       2|  6.096| 128.016|1/25/2019|19:39|Credit card|121.92|              4.7619047|       6.096|   4.9|\n",
            "|133-14-7229|     C|Naypyitaw|       Normal|  Male|   Health and beauty|     62.87|       2|  6.287| 132.027| 1/1/2019|11:43|       Cash|125.74|              4.7619047|       6.287|   5.0|\n",
            "|832-51-6761|     A|   Yangon|       Normal|  Male|  Food and beverages|     33.88|       8| 13.552| 284.592|1/19/2019|20:29|    Ewallet|271.04|              4.7619047|      13.552|   9.6|\n",
            "|852-82-2749|     A|   Yangon|       Normal|  Male|   Sports and travel|     64.59|       4| 12.918| 271.278| 1/6/2019|13:35|    Ewallet|258.36|              4.7619047|      12.918|   9.3|\n",
            "|544-32-5024|     C|Naypyitaw|       Member|Female|  Food and beverages|     49.79|       4|  9.958| 209.118|3/28/2019|19:16|Credit card|199.16|              4.7619047|       9.958|   6.4|\n",
            "|188-55-0967|     B| Mandalay|       Member|  Male|   Health and beauty|     66.47|      10| 33.235| 697.935|1/15/2019|15:01|Credit card| 664.7|              4.7619047|      33.235|   5.0|\n",
            "|183-21-3799|     C|Naypyitaw|       Normal|Female|Electronic access...|     77.63|       9|34.9335|733.6035|2/19/2019|15:14|    Ewallet|698.67|              4.7619047|     34.9335|   7.2|\n",
            "|787-56-0757|     C|Naypyitaw|       Member|Female|  Food and beverages|     80.36|       4| 16.072| 337.512|2/23/2019|18:45|Credit card|321.44|              4.7619047|      16.072|   8.3|\n",
            "+-----------+------+---------+-------------+------+--------------------+----------+--------+-------+--------+---------+-----+-----------+------+-----------------------+------------+------+\n",
            "only showing top 15 rows\n",
            "\n"
          ]
        }
      ]
    },
    {
      "cell_type": "code",
      "source": [
        "df = df.drop(\"gross margin percentage\")\n",
        "df.show()"
      ],
      "metadata": {
        "colab": {
          "base_uri": "https://localhost:8080/"
        },
        "id": "zeCKv2OqiyqE",
        "outputId": "84707518-5d25-4ce3-dff7-3fef0f192f15"
      },
      "execution_count": null,
      "outputs": [
        {
          "output_type": "stream",
          "name": "stdout",
          "text": [
            "+-----------+------+---------+-------------+------+--------------------+----------+--------+-------+--------+---------+-----+-----------+------+------------+------+\n",
            "| Invoice ID|Branch|     City|Customer type|Gender|        Product line|Unit price|Quantity| Tax 5%|   Total|     Date| Time|    Payment|  cogs|gross income|Rating|\n",
            "+-----------+------+---------+-------------+------+--------------------+----------+--------+-------+--------+---------+-----+-----------+------+------------+------+\n",
            "|563-91-7120|     A|   Yangon|       Normal|Female| Fashion accessories|     61.77|       5|15.4425|324.2925| 3/8/2019|13:21|       Cash|308.85|     15.4425|   6.7|\n",
            "|633-09-3463|     C|Naypyitaw|       Normal|Female|Electronic access...|     47.65|       3| 7.1475|150.0975|3/28/2019|12:58|Credit card|142.95|      7.1475|   9.5|\n",
            "|689-16-9784|     C|Naypyitaw|       Normal|  Male|  Food and beverages|     46.77|       6| 14.031| 294.651|3/11/2019|13:37|       Cash|280.62|      14.031|   6.0|\n",
            "|676-39-6028|     A|   Yangon|       Member|Female|Electronic access...|     64.44|       5|  16.11|  338.31|3/30/2019|17:04|       Cash| 322.2|       16.11|   6.6|\n",
            "|816-72-8853|     A|   Yangon|       Member|Female|   Sports and travel|     27.93|       5| 6.9825|146.6325|1/29/2019|15:48|       Cash|139.65|      6.9825|   5.9|\n",
            "|191-10-6171|     B| Mandalay|       Normal|Female| Fashion accessories|     39.62|       7| 13.867| 291.207|1/25/2019|13:18|       Cash|277.34|      13.867|   7.5|\n",
            "|144-51-6085|     A|   Yangon|       Member|  Male|  Home and lifestyle|     70.74|       4| 14.148| 297.108| 1/5/2019|16:05|Credit card|282.96|      14.148|   4.4|\n",
            "|261-12-8671|     B| Mandalay|       Normal|Female| Fashion accessories|     60.96|       2|  6.096| 128.016|1/25/2019|19:39|Credit card|121.92|       6.096|   4.9|\n",
            "|133-14-7229|     C|Naypyitaw|       Normal|  Male|   Health and beauty|     62.87|       2|  6.287| 132.027| 1/1/2019|11:43|       Cash|125.74|       6.287|   5.0|\n",
            "|832-51-6761|     A|   Yangon|       Normal|  Male|  Food and beverages|     33.88|       8| 13.552| 284.592|1/19/2019|20:29|    Ewallet|271.04|      13.552|   9.6|\n",
            "|852-82-2749|     A|   Yangon|       Normal|  Male|   Sports and travel|     64.59|       4| 12.918| 271.278| 1/6/2019|13:35|    Ewallet|258.36|      12.918|   9.3|\n",
            "|544-32-5024|     C|Naypyitaw|       Member|Female|  Food and beverages|     49.79|       4|  9.958| 209.118|3/28/2019|19:16|Credit card|199.16|       9.958|   6.4|\n",
            "|188-55-0967|     B| Mandalay|       Member|  Male|   Health and beauty|     66.47|      10| 33.235| 697.935|1/15/2019|15:01|Credit card| 664.7|      33.235|   5.0|\n",
            "|183-21-3799|     C|Naypyitaw|       Normal|Female|Electronic access...|     77.63|       9|34.9335|733.6035|2/19/2019|15:14|    Ewallet|698.67|     34.9335|   7.2|\n",
            "|787-56-0757|     C|Naypyitaw|       Member|Female|  Food and beverages|     80.36|       4| 16.072| 337.512|2/23/2019|18:45|Credit card|321.44|      16.072|   8.3|\n",
            "|213-72-6612|     A|   Yangon|       Normal|  Male|  Food and beverages|     43.25|       2|  4.325|  90.825|3/20/2019|15:56|       Cash|  86.5|       4.325|   6.2|\n",
            "|484-22-8230|     C|Naypyitaw|       Member|Female| Fashion accessories|     51.89|       7|18.1615|381.3915| 1/8/2019|20:08|       Cash|363.23|     18.1615|   4.5|\n",
            "|528-87-5606|     B| Mandalay|       Member|Female|Electronic access...|     39.48|       1|  1.974|  41.454|2/12/2019|19:43|       Cash| 39.48|       1.974|   6.5|\n",
            "|182-52-7000|     A|   Yangon|       Member|Female|   Sports and travel|     27.04|       4|  5.408| 113.568| 1/1/2019|20:26|    Ewallet|108.16|       5.408|   6.9|\n",
            "|775-72-1988|     B| Mandalay|       Normal|  Male|  Home and lifestyle|     73.28|       5|  18.32|  384.72|1/24/2019|15:05|    Ewallet| 366.4|       18.32|   8.4|\n",
            "+-----------+------+---------+-------------+------+--------------------+----------+--------+-------+--------+---------+-----+-----------+------+------------+------+\n",
            "only showing top 20 rows\n",
            "\n"
          ]
        }
      ]
    },
    {
      "cell_type": "markdown",
      "source": [
        "converting date time datatype to date time from string and extracting month and day, date from the date"
      ],
      "metadata": {
        "id": "Sho4ky8wSZ2s"
      }
    },
    {
      "cell_type": "code",
      "source": [
        "from pyspark.sql.functions import col, to_date, dayofweek, hour, to_timestamp\n",
        "\n",
        "# Set Spark to use the legacy time parser\n",
        "spark.conf.set(\"spark.sql.legacy.timeParserPolicy\", \"LEGACY\")\n",
        "\n",
        "# Convert \"date\" column to proper date format\n",
        "df = df.withColumn(\"date\", to_date(col(\"date\"), \"M/d/yyyy\"))\n",
        "\n",
        "# Extract day of the week\n",
        "df = df.withColumn(\"day_of_week\", dayofweek(col(\"date\")))\n",
        "\n",
        "# Convert \"time\" column to timestamp and extract hour\n",
        "df = df.withColumn(\"hour\", hour(to_timestamp(col(\"time\"), \"HH:mm\")))\n",
        "\n",
        "df.show()\n",
        "\n"
      ],
      "metadata": {
        "colab": {
          "base_uri": "https://localhost:8080/"
        },
        "id": "6ySEU9yjSEky",
        "outputId": "564e63a7-2e39-4dcc-b5c2-7f0df7736aa6"
      },
      "execution_count": null,
      "outputs": [
        {
          "output_type": "stream",
          "name": "stdout",
          "text": [
            "+-----------+------+---------+-------------+------+--------------------+----------+--------+-------+--------+----------+-----+-----------+------+------------+------+-----------+----+\n",
            "| Invoice ID|Branch|     City|Customer type|Gender|        Product line|Unit price|Quantity| Tax 5%|   Total|      date| Time|    Payment|  cogs|gross income|Rating|day_of_week|hour|\n",
            "+-----------+------+---------+-------------+------+--------------------+----------+--------+-------+--------+----------+-----+-----------+------+------------+------+-----------+----+\n",
            "|563-91-7120|     A|   Yangon|       Normal|Female| Fashion accessories|     61.77|       5|15.4425|324.2925|2019-03-08|13:21|       Cash|308.85|     15.4425|   6.7|          6|  13|\n",
            "|633-09-3463|     C|Naypyitaw|       Normal|Female|Electronic access...|     47.65|       3| 7.1475|150.0975|2019-03-28|12:58|Credit card|142.95|      7.1475|   9.5|          5|  12|\n",
            "|689-16-9784|     C|Naypyitaw|       Normal|  Male|  Food and beverages|     46.77|       6| 14.031| 294.651|2019-03-11|13:37|       Cash|280.62|      14.031|   6.0|          2|  13|\n",
            "|676-39-6028|     A|   Yangon|       Member|Female|Electronic access...|     64.44|       5|  16.11|  338.31|2019-03-30|17:04|       Cash| 322.2|       16.11|   6.6|          7|  17|\n",
            "|816-72-8853|     A|   Yangon|       Member|Female|   Sports and travel|     27.93|       5| 6.9825|146.6325|2019-01-29|15:48|       Cash|139.65|      6.9825|   5.9|          3|  15|\n",
            "|191-10-6171|     B| Mandalay|       Normal|Female| Fashion accessories|     39.62|       7| 13.867| 291.207|2019-01-25|13:18|       Cash|277.34|      13.867|   7.5|          6|  13|\n",
            "|144-51-6085|     A|   Yangon|       Member|  Male|  Home and lifestyle|     70.74|       4| 14.148| 297.108|2019-01-05|16:05|Credit card|282.96|      14.148|   4.4|          7|  16|\n",
            "|261-12-8671|     B| Mandalay|       Normal|Female| Fashion accessories|     60.96|       2|  6.096| 128.016|2019-01-25|19:39|Credit card|121.92|       6.096|   4.9|          6|  19|\n",
            "|133-14-7229|     C|Naypyitaw|       Normal|  Male|   Health and beauty|     62.87|       2|  6.287| 132.027|2019-01-01|11:43|       Cash|125.74|       6.287|   5.0|          3|  11|\n",
            "|832-51-6761|     A|   Yangon|       Normal|  Male|  Food and beverages|     33.88|       8| 13.552| 284.592|2019-01-19|20:29|    Ewallet|271.04|      13.552|   9.6|          7|  20|\n",
            "|852-82-2749|     A|   Yangon|       Normal|  Male|   Sports and travel|     64.59|       4| 12.918| 271.278|2019-01-06|13:35|    Ewallet|258.36|      12.918|   9.3|          1|  13|\n",
            "|544-32-5024|     C|Naypyitaw|       Member|Female|  Food and beverages|     49.79|       4|  9.958| 209.118|2019-03-28|19:16|Credit card|199.16|       9.958|   6.4|          5|  19|\n",
            "|188-55-0967|     B| Mandalay|       Member|  Male|   Health and beauty|     66.47|      10| 33.235| 697.935|2019-01-15|15:01|Credit card| 664.7|      33.235|   5.0|          3|  15|\n",
            "|183-21-3799|     C|Naypyitaw|       Normal|Female|Electronic access...|     77.63|       9|34.9335|733.6035|2019-02-19|15:14|    Ewallet|698.67|     34.9335|   7.2|          3|  15|\n",
            "|787-56-0757|     C|Naypyitaw|       Member|Female|  Food and beverages|     80.36|       4| 16.072| 337.512|2019-02-23|18:45|Credit card|321.44|      16.072|   8.3|          7|  18|\n",
            "|213-72-6612|     A|   Yangon|       Normal|  Male|  Food and beverages|     43.25|       2|  4.325|  90.825|2019-03-20|15:56|       Cash|  86.5|       4.325|   6.2|          4|  15|\n",
            "|484-22-8230|     C|Naypyitaw|       Member|Female| Fashion accessories|     51.89|       7|18.1615|381.3915|2019-01-08|20:08|       Cash|363.23|     18.1615|   4.5|          3|  20|\n",
            "|528-87-5606|     B| Mandalay|       Member|Female|Electronic access...|     39.48|       1|  1.974|  41.454|2019-02-12|19:43|       Cash| 39.48|       1.974|   6.5|          3|  19|\n",
            "|182-52-7000|     A|   Yangon|       Member|Female|   Sports and travel|     27.04|       4|  5.408| 113.568|2019-01-01|20:26|    Ewallet|108.16|       5.408|   6.9|          3|  20|\n",
            "|775-72-1988|     B| Mandalay|       Normal|  Male|  Home and lifestyle|     73.28|       5|  18.32|  384.72|2019-01-24|15:05|    Ewallet| 366.4|       18.32|   8.4|          5|  15|\n",
            "+-----------+------+---------+-------------+------+--------------------+----------+--------+-------+--------+----------+-----+-----------+------+------------+------+-----------+----+\n",
            "only showing top 20 rows\n",
            "\n"
          ]
        }
      ]
    },
    {
      "cell_type": "markdown",
      "source": [
        "Remove the leading and tailing spaces and convert the columns to lower cases"
      ],
      "metadata": {
        "id": "5yCGeFjgUqu8"
      }
    },
    {
      "cell_type": "code",
      "source": [
        "from pyspark.sql.functions import col, lower, trim\n",
        "\n",
        "text_columns = [\"Branch\", \"City\", \"Gender\"]\n",
        "\n",
        "# Apply trimming and lowercase conversion using PySpark functions\n",
        "df = df.select([trim(lower(col(c))).alias(c) if c in text_columns else col(c) for c in df.columns])\n",
        "df.show()\n",
        "\n"
      ],
      "metadata": {
        "colab": {
          "base_uri": "https://localhost:8080/"
        },
        "id": "6m-TEECQUy5o",
        "outputId": "4efadc1d-20dd-4ef9-fdc7-cfbaa9f54f7d"
      },
      "execution_count": null,
      "outputs": [
        {
          "output_type": "stream",
          "name": "stdout",
          "text": [
            "+-----------+------+---------+-------------+------+--------------------+----------+--------+-------+--------+----------+-----+-----------+------+------------+------+-----------+----+\n",
            "| Invoice ID|Branch|     City|Customer type|Gender|        Product line|Unit price|Quantity| Tax 5%|   Total|      date| Time|    Payment|  cogs|gross income|Rating|day_of_week|hour|\n",
            "+-----------+------+---------+-------------+------+--------------------+----------+--------+-------+--------+----------+-----+-----------+------+------------+------+-----------+----+\n",
            "|563-91-7120|     a|   yangon|       Normal|female| Fashion accessories|     61.77|       5|15.4425|324.2925|2019-03-08|13:21|       Cash|308.85|     15.4425|   6.7|          6|  13|\n",
            "|633-09-3463|     c|naypyitaw|       Normal|female|Electronic access...|     47.65|       3| 7.1475|150.0975|2019-03-28|12:58|Credit card|142.95|      7.1475|   9.5|          5|  12|\n",
            "|689-16-9784|     c|naypyitaw|       Normal|  male|  Food and beverages|     46.77|       6| 14.031| 294.651|2019-03-11|13:37|       Cash|280.62|      14.031|   6.0|          2|  13|\n",
            "|676-39-6028|     a|   yangon|       Member|female|Electronic access...|     64.44|       5|  16.11|  338.31|2019-03-30|17:04|       Cash| 322.2|       16.11|   6.6|          7|  17|\n",
            "|816-72-8853|     a|   yangon|       Member|female|   Sports and travel|     27.93|       5| 6.9825|146.6325|2019-01-29|15:48|       Cash|139.65|      6.9825|   5.9|          3|  15|\n",
            "|191-10-6171|     b| mandalay|       Normal|female| Fashion accessories|     39.62|       7| 13.867| 291.207|2019-01-25|13:18|       Cash|277.34|      13.867|   7.5|          6|  13|\n",
            "|144-51-6085|     a|   yangon|       Member|  male|  Home and lifestyle|     70.74|       4| 14.148| 297.108|2019-01-05|16:05|Credit card|282.96|      14.148|   4.4|          7|  16|\n",
            "|261-12-8671|     b| mandalay|       Normal|female| Fashion accessories|     60.96|       2|  6.096| 128.016|2019-01-25|19:39|Credit card|121.92|       6.096|   4.9|          6|  19|\n",
            "|133-14-7229|     c|naypyitaw|       Normal|  male|   Health and beauty|     62.87|       2|  6.287| 132.027|2019-01-01|11:43|       Cash|125.74|       6.287|   5.0|          3|  11|\n",
            "|832-51-6761|     a|   yangon|       Normal|  male|  Food and beverages|     33.88|       8| 13.552| 284.592|2019-01-19|20:29|    Ewallet|271.04|      13.552|   9.6|          7|  20|\n",
            "|852-82-2749|     a|   yangon|       Normal|  male|   Sports and travel|     64.59|       4| 12.918| 271.278|2019-01-06|13:35|    Ewallet|258.36|      12.918|   9.3|          1|  13|\n",
            "|544-32-5024|     c|naypyitaw|       Member|female|  Food and beverages|     49.79|       4|  9.958| 209.118|2019-03-28|19:16|Credit card|199.16|       9.958|   6.4|          5|  19|\n",
            "|188-55-0967|     b| mandalay|       Member|  male|   Health and beauty|     66.47|      10| 33.235| 697.935|2019-01-15|15:01|Credit card| 664.7|      33.235|   5.0|          3|  15|\n",
            "|183-21-3799|     c|naypyitaw|       Normal|female|Electronic access...|     77.63|       9|34.9335|733.6035|2019-02-19|15:14|    Ewallet|698.67|     34.9335|   7.2|          3|  15|\n",
            "|787-56-0757|     c|naypyitaw|       Member|female|  Food and beverages|     80.36|       4| 16.072| 337.512|2019-02-23|18:45|Credit card|321.44|      16.072|   8.3|          7|  18|\n",
            "|213-72-6612|     a|   yangon|       Normal|  male|  Food and beverages|     43.25|       2|  4.325|  90.825|2019-03-20|15:56|       Cash|  86.5|       4.325|   6.2|          4|  15|\n",
            "|484-22-8230|     c|naypyitaw|       Member|female| Fashion accessories|     51.89|       7|18.1615|381.3915|2019-01-08|20:08|       Cash|363.23|     18.1615|   4.5|          3|  20|\n",
            "|528-87-5606|     b| mandalay|       Member|female|Electronic access...|     39.48|       1|  1.974|  41.454|2019-02-12|19:43|       Cash| 39.48|       1.974|   6.5|          3|  19|\n",
            "|182-52-7000|     a|   yangon|       Member|female|   Sports and travel|     27.04|       4|  5.408| 113.568|2019-01-01|20:26|    Ewallet|108.16|       5.408|   6.9|          3|  20|\n",
            "|775-72-1988|     b| mandalay|       Normal|  male|  Home and lifestyle|     73.28|       5|  18.32|  384.72|2019-01-24|15:05|    Ewallet| 366.4|       18.32|   8.4|          5|  15|\n",
            "+-----------+------+---------+-------------+------+--------------------+----------+--------+-------+--------+----------+-----+-----------+------+------------+------+-----------+----+\n",
            "only showing top 20 rows\n",
            "\n"
          ]
        }
      ]
    },
    {
      "cell_type": "markdown",
      "source": [
        "fixing numerical values"
      ],
      "metadata": {
        "id": "u0uP5xgZWQt7"
      }
    },
    {
      "cell_type": "code",
      "source": [
        "from pyspark.sql.functions import col\n",
        "\n",
        "# Define numeric columns\n",
        "num_columns = [\"Unit price\", \"Tax 5%\", \"Total\", \"cogs\", \"gross margin percentage\", \"Rating\"]\n",
        "\n",
        "# Convert columns to float type\n",
        "df = df.select([col(c).cast(\"float\").alias(c) if c in num_columns else col(c) for c in df.columns])\n",
        "\n",
        "# Verify schema to ensure columns are correctly cast to float\n",
        "df.printSchema()\n",
        "\n",
        "# Show results\n",
        "df.show()\n"
      ],
      "metadata": {
        "colab": {
          "base_uri": "https://localhost:8080/"
        },
        "id": "GHsp-6A9WSvW",
        "outputId": "511e1ee1-93ab-4c26-9263-b6f8d1820c10"
      },
      "execution_count": null,
      "outputs": [
        {
          "output_type": "stream",
          "name": "stdout",
          "text": [
            "root\n",
            " |-- Invoice ID: string (nullable = true)\n",
            " |-- Branch: string (nullable = true)\n",
            " |-- City: string (nullable = true)\n",
            " |-- Customer type: string (nullable = true)\n",
            " |-- Gender: string (nullable = true)\n",
            " |-- Product line: string (nullable = true)\n",
            " |-- Unit price: float (nullable = true)\n",
            " |-- Quantity: integer (nullable = true)\n",
            " |-- Tax 5%: float (nullable = true)\n",
            " |-- Total: float (nullable = true)\n",
            " |-- date: date (nullable = true)\n",
            " |-- Time: string (nullable = true)\n",
            " |-- Payment: string (nullable = true)\n",
            " |-- cogs: float (nullable = true)\n",
            " |-- gross income: float (nullable = true)\n",
            " |-- Rating: float (nullable = true)\n",
            " |-- day_of_week: integer (nullable = true)\n",
            " |-- hour: integer (nullable = true)\n",
            "\n",
            "+-----------+------+---------+-------------+------+--------------------+----------+--------+-------+--------+----------+-----+-----------+------+------------+------+-----------+----+\n",
            "| Invoice ID|Branch|     City|Customer type|Gender|        Product line|Unit price|Quantity| Tax 5%|   Total|      date| Time|    Payment|  cogs|gross income|Rating|day_of_week|hour|\n",
            "+-----------+------+---------+-------------+------+--------------------+----------+--------+-------+--------+----------+-----+-----------+------+------------+------+-----------+----+\n",
            "|563-91-7120|     a|   yangon|       Normal|female| Fashion accessories|     61.77|       5|15.4425|324.2925|2019-03-08|13:21|       Cash|308.85|     15.4425|   6.7|          6|  13|\n",
            "|633-09-3463|     c|naypyitaw|       Normal|female|Electronic access...|     47.65|       3| 7.1475|150.0975|2019-03-28|12:58|Credit card|142.95|      7.1475|   9.5|          5|  12|\n",
            "|689-16-9784|     c|naypyitaw|       Normal|  male|  Food and beverages|     46.77|       6| 14.031| 294.651|2019-03-11|13:37|       Cash|280.62|      14.031|   6.0|          2|  13|\n",
            "|676-39-6028|     a|   yangon|       Member|female|Electronic access...|     64.44|       5|  16.11|  338.31|2019-03-30|17:04|       Cash| 322.2|       16.11|   6.6|          7|  17|\n",
            "|816-72-8853|     a|   yangon|       Member|female|   Sports and travel|     27.93|       5| 6.9825|146.6325|2019-01-29|15:48|       Cash|139.65|      6.9825|   5.9|          3|  15|\n",
            "|191-10-6171|     b| mandalay|       Normal|female| Fashion accessories|     39.62|       7| 13.867| 291.207|2019-01-25|13:18|       Cash|277.34|      13.867|   7.5|          6|  13|\n",
            "|144-51-6085|     a|   yangon|       Member|  male|  Home and lifestyle|     70.74|       4| 14.148| 297.108|2019-01-05|16:05|Credit card|282.96|      14.148|   4.4|          7|  16|\n",
            "|261-12-8671|     b| mandalay|       Normal|female| Fashion accessories|     60.96|       2|  6.096| 128.016|2019-01-25|19:39|Credit card|121.92|       6.096|   4.9|          6|  19|\n",
            "|133-14-7229|     c|naypyitaw|       Normal|  male|   Health and beauty|     62.87|       2|  6.287| 132.027|2019-01-01|11:43|       Cash|125.74|       6.287|   5.0|          3|  11|\n",
            "|832-51-6761|     a|   yangon|       Normal|  male|  Food and beverages|     33.88|       8| 13.552| 284.592|2019-01-19|20:29|    Ewallet|271.04|      13.552|   9.6|          7|  20|\n",
            "|852-82-2749|     a|   yangon|       Normal|  male|   Sports and travel|     64.59|       4| 12.918| 271.278|2019-01-06|13:35|    Ewallet|258.36|      12.918|   9.3|          1|  13|\n",
            "|544-32-5024|     c|naypyitaw|       Member|female|  Food and beverages|     49.79|       4|  9.958| 209.118|2019-03-28|19:16|Credit card|199.16|       9.958|   6.4|          5|  19|\n",
            "|188-55-0967|     b| mandalay|       Member|  male|   Health and beauty|     66.47|      10| 33.235| 697.935|2019-01-15|15:01|Credit card| 664.7|      33.235|   5.0|          3|  15|\n",
            "|183-21-3799|     c|naypyitaw|       Normal|female|Electronic access...|     77.63|       9|34.9335|733.6035|2019-02-19|15:14|    Ewallet|698.67|     34.9335|   7.2|          3|  15|\n",
            "|787-56-0757|     c|naypyitaw|       Member|female|  Food and beverages|     80.36|       4| 16.072| 337.512|2019-02-23|18:45|Credit card|321.44|      16.072|   8.3|          7|  18|\n",
            "|213-72-6612|     a|   yangon|       Normal|  male|  Food and beverages|     43.25|       2|  4.325|  90.825|2019-03-20|15:56|       Cash|  86.5|       4.325|   6.2|          4|  15|\n",
            "|484-22-8230|     c|naypyitaw|       Member|female| Fashion accessories|     51.89|       7|18.1615|381.3915|2019-01-08|20:08|       Cash|363.23|     18.1615|   4.5|          3|  20|\n",
            "|528-87-5606|     b| mandalay|       Member|female|Electronic access...|     39.48|       1|  1.974|  41.454|2019-02-12|19:43|       Cash| 39.48|       1.974|   6.5|          3|  19|\n",
            "|182-52-7000|     a|   yangon|       Member|female|   Sports and travel|     27.04|       4|  5.408| 113.568|2019-01-01|20:26|    Ewallet|108.16|       5.408|   6.9|          3|  20|\n",
            "|775-72-1988|     b| mandalay|       Normal|  male|  Home and lifestyle|     73.28|       5|  18.32|  384.72|2019-01-24|15:05|    Ewallet| 366.4|       18.32|   8.4|          5|  15|\n",
            "+-----------+------+---------+-------------+------+--------------------+----------+--------+-------+--------+----------+-----+-----------+------+------------+------+-----------+----+\n",
            "only showing top 20 rows\n",
            "\n"
          ]
        }
      ]
    },
    {
      "cell_type": "markdown",
      "source": [
        "Handling outliers"
      ],
      "metadata": {
        "id": "pD7PRyuGXNnO"
      }
    },
    {
      "cell_type": "code",
      "source": [
        "df = df[(df[\"rating\"] >= 1) & (df[\"rating\"] <= 10)]\n",
        "df = df[(df[\"quantity\"] >= 1) & (df[\"quantity\"] <= 50)]\n",
        "df = df[df[\"total\"] > 0]  # Remove rows with total = 0\n",
        "df.show(10)"
      ],
      "metadata": {
        "colab": {
          "base_uri": "https://localhost:8080/"
        },
        "id": "TDvPDImtXZXv",
        "outputId": "89cf86cd-d272-4bd8-fd7c-4829b2b19934"
      },
      "execution_count": null,
      "outputs": [
        {
          "output_type": "stream",
          "name": "stdout",
          "text": [
            "+-----------+------+---------+-------------+------+--------------------+----------+--------+-------+--------+----------+-----+-----------+------+------------+------+-----------+----+\n",
            "| Invoice ID|Branch|     City|Customer type|Gender|        Product line|Unit price|Quantity| Tax 5%|   Total|      date| Time|    Payment|  cogs|gross income|Rating|day_of_week|hour|\n",
            "+-----------+------+---------+-------------+------+--------------------+----------+--------+-------+--------+----------+-----+-----------+------+------------+------+-----------+----+\n",
            "|563-91-7120|     a|   yangon|       Normal|female| Fashion accessories|     61.77|       5|15.4425|324.2925|2019-03-08|13:21|       Cash|308.85|     15.4425|   6.7|          6|  13|\n",
            "|633-09-3463|     c|naypyitaw|       Normal|female|Electronic access...|     47.65|       3| 7.1475|150.0975|2019-03-28|12:58|Credit card|142.95|      7.1475|   9.5|          5|  12|\n",
            "|689-16-9784|     c|naypyitaw|       Normal|  male|  Food and beverages|     46.77|       6| 14.031| 294.651|2019-03-11|13:37|       Cash|280.62|      14.031|   6.0|          2|  13|\n",
            "|676-39-6028|     a|   yangon|       Member|female|Electronic access...|     64.44|       5|  16.11|  338.31|2019-03-30|17:04|       Cash| 322.2|       16.11|   6.6|          7|  17|\n",
            "|816-72-8853|     a|   yangon|       Member|female|   Sports and travel|     27.93|       5| 6.9825|146.6325|2019-01-29|15:48|       Cash|139.65|      6.9825|   5.9|          3|  15|\n",
            "|191-10-6171|     b| mandalay|       Normal|female| Fashion accessories|     39.62|       7| 13.867| 291.207|2019-01-25|13:18|       Cash|277.34|      13.867|   7.5|          6|  13|\n",
            "|144-51-6085|     a|   yangon|       Member|  male|  Home and lifestyle|     70.74|       4| 14.148| 297.108|2019-01-05|16:05|Credit card|282.96|      14.148|   4.4|          7|  16|\n",
            "|261-12-8671|     b| mandalay|       Normal|female| Fashion accessories|     60.96|       2|  6.096| 128.016|2019-01-25|19:39|Credit card|121.92|       6.096|   4.9|          6|  19|\n",
            "|133-14-7229|     c|naypyitaw|       Normal|  male|   Health and beauty|     62.87|       2|  6.287| 132.027|2019-01-01|11:43|       Cash|125.74|       6.287|   5.0|          3|  11|\n",
            "|832-51-6761|     a|   yangon|       Normal|  male|  Food and beverages|     33.88|       8| 13.552| 284.592|2019-01-19|20:29|    Ewallet|271.04|      13.552|   9.6|          7|  20|\n",
            "+-----------+------+---------+-------------+------+--------------------+----------+--------+-------+--------+----------+-----+-----------+------+------------+------+-----------+----+\n",
            "only showing top 10 rows\n",
            "\n"
          ]
        }
      ]
    },
    {
      "cell_type": "markdown",
      "source": [
        "caluclating profit margin"
      ],
      "metadata": {
        "id": "64C3VnM8X6M3"
      }
    },
    {
      "cell_type": "code",
      "source": [
        "from pyspark.sql.functions import when\n",
        "\n",
        "# Avoid division by zero\n",
        "df = df.withColumn(\n",
        "    \"profit_margin\",\n",
        "    when(col(\"Total\") != 0, col(\"gross income\") / col(\"Total\")).otherwise(None)\n",
        ")\n",
        "\n",
        "df.show(10)\n"
      ],
      "metadata": {
        "colab": {
          "base_uri": "https://localhost:8080/"
        },
        "id": "m0wzFXE9X8sM",
        "outputId": "7077e417-b880-48de-85b3-b4507ea83981"
      },
      "execution_count": null,
      "outputs": [
        {
          "output_type": "stream",
          "name": "stdout",
          "text": [
            "+-----------+------+---------+-------------+------+--------------------+----------+--------+-------+--------+----------+-----+-----------+------+------------+------+-----------+----+--------------------+\n",
            "| Invoice ID|Branch|     City|Customer type|Gender|        Product line|Unit price|Quantity| Tax 5%|   Total|      date| Time|    Payment|  cogs|gross income|Rating|day_of_week|hour|       profit_margin|\n",
            "+-----------+------+---------+-------------+------+--------------------+----------+--------+-------+--------+----------+-----+-----------+------+------------+------+-----------+----+--------------------+\n",
            "|563-91-7120|     a|   yangon|       Normal|female| Fashion accessories|     61.77|       5|15.4425|324.2925|2019-03-08|13:21|       Cash|308.85|     15.4425|   6.7|          6|  13|  0.0476190463587115|\n",
            "|633-09-3463|     c|naypyitaw|       Normal|female|Electronic access...|     47.65|       3| 7.1475|150.0975|2019-03-28|12:58|Credit card|142.95|      7.1475|   9.5|          5|  12| 0.04761904671137637|\n",
            "|689-16-9784|     c|naypyitaw|       Normal|  male|  Food and beverages|     46.77|       6| 14.031| 294.651|2019-03-11|13:37|       Cash|280.62|      14.031|   6.0|          2|  13|0.047619047927297466|\n",
            "|676-39-6028|     a|   yangon|       Member|female|Electronic access...|     64.44|       5|  16.11|  338.31|2019-03-30|17:04|       Cash| 322.2|       16.11|   6.6|          7|  17| 0.04761904976680857|\n",
            "|816-72-8853|     a|   yangon|       Member|female|   Sports and travel|     27.93|       5| 6.9825|146.6325|2019-01-29|15:48|       Cash|139.65|      6.9825|   5.9|          3|  15|0.047619045760807714|\n",
            "|191-10-6171|     b| mandalay|       Normal|female| Fashion accessories|     39.62|       7| 13.867| 291.207|2019-01-25|13:18|       Cash|277.34|      13.867|   7.5|          6|  13|0.047619046215518296|\n",
            "|144-51-6085|     a|   yangon|       Member|  male|  Home and lifestyle|     70.74|       4| 14.148| 297.108|2019-01-05|16:05|Credit card|282.96|      14.148|   4.4|          7|  16|0.047619046549095156|\n",
            "|261-12-8671|     b| mandalay|       Normal|female| Fashion accessories|     60.96|       2|  6.096| 128.016|2019-01-25|19:39|Credit card|121.92|       6.096|   4.9|          6|  19|0.047619046732184644|\n",
            "|133-14-7229|     c|naypyitaw|       Normal|  male|   Health and beauty|     62.87|       2|  6.287| 132.027|2019-01-01|11:43|       Cash|125.74|       6.287|   5.0|          3|  11| 0.04761905157467979|\n",
            "|832-51-6761|     a|   yangon|       Normal|  male|  Food and beverages|     33.88|       8| 13.552| 284.592|2019-01-19|20:29|    Ewallet|271.04|      13.552|   9.6|          7|  20|0.047619046023322474|\n",
            "+-----------+------+---------+-------------+------+--------------------+----------+--------+-------+--------+----------+-----+-----------+------+------------+------+-----------+----+--------------------+\n",
            "only showing top 10 rows\n",
            "\n"
          ]
        }
      ]
    },
    {
      "cell_type": "markdown",
      "source": [
        "identify the rush hours"
      ],
      "metadata": {
        "id": "IOXOQq8FZg-4"
      }
    },
    {
      "cell_type": "code",
      "source": [
        "from pyspark.sql.functions import col, when\n",
        "\n",
        "# Create 'rush_hour' column based on conditions\n",
        "df = df.withColumn(\n",
        "    \"rush_hour\",\n",
        "    when(col(\"hour\").isin([12, 13, 17, 18]), \"yes\").otherwise(\"no\")\n",
        ")\n",
        "\n",
        "# Show the first 10 rows\n",
        "df.show(10)\n"
      ],
      "metadata": {
        "colab": {
          "base_uri": "https://localhost:8080/"
        },
        "id": "qBAxP-eDZgQ9",
        "outputId": "4a0e1df3-c162-44c8-a477-a2e50d24bf4c"
      },
      "execution_count": null,
      "outputs": [
        {
          "output_type": "stream",
          "name": "stdout",
          "text": [
            "+-----------+------+---------+-------------+------+--------------------+----------+--------+-------+--------+----------+-----+-----------+------+------------+------+-----------+----+--------------------+---------+\n",
            "| Invoice ID|Branch|     City|Customer type|Gender|        Product line|Unit price|Quantity| Tax 5%|   Total|      date| Time|    Payment|  cogs|gross income|Rating|day_of_week|hour|       profit_margin|rush_hour|\n",
            "+-----------+------+---------+-------------+------+--------------------+----------+--------+-------+--------+----------+-----+-----------+------+------------+------+-----------+----+--------------------+---------+\n",
            "|563-91-7120|     a|   yangon|       Normal|female| Fashion accessories|     61.77|       5|15.4425|324.2925|2019-03-08|13:21|       Cash|308.85|     15.4425|   6.7|          6|  13|  0.0476190463587115|      yes|\n",
            "|633-09-3463|     c|naypyitaw|       Normal|female|Electronic access...|     47.65|       3| 7.1475|150.0975|2019-03-28|12:58|Credit card|142.95|      7.1475|   9.5|          5|  12| 0.04761904671137637|      yes|\n",
            "|689-16-9784|     c|naypyitaw|       Normal|  male|  Food and beverages|     46.77|       6| 14.031| 294.651|2019-03-11|13:37|       Cash|280.62|      14.031|   6.0|          2|  13|0.047619047927297466|      yes|\n",
            "|676-39-6028|     a|   yangon|       Member|female|Electronic access...|     64.44|       5|  16.11|  338.31|2019-03-30|17:04|       Cash| 322.2|       16.11|   6.6|          7|  17| 0.04761904976680857|      yes|\n",
            "|816-72-8853|     a|   yangon|       Member|female|   Sports and travel|     27.93|       5| 6.9825|146.6325|2019-01-29|15:48|       Cash|139.65|      6.9825|   5.9|          3|  15|0.047619045760807714|       no|\n",
            "|191-10-6171|     b| mandalay|       Normal|female| Fashion accessories|     39.62|       7| 13.867| 291.207|2019-01-25|13:18|       Cash|277.34|      13.867|   7.5|          6|  13|0.047619046215518296|      yes|\n",
            "|144-51-6085|     a|   yangon|       Member|  male|  Home and lifestyle|     70.74|       4| 14.148| 297.108|2019-01-05|16:05|Credit card|282.96|      14.148|   4.4|          7|  16|0.047619046549095156|       no|\n",
            "|261-12-8671|     b| mandalay|       Normal|female| Fashion accessories|     60.96|       2|  6.096| 128.016|2019-01-25|19:39|Credit card|121.92|       6.096|   4.9|          6|  19|0.047619046732184644|       no|\n",
            "|133-14-7229|     c|naypyitaw|       Normal|  male|   Health and beauty|     62.87|       2|  6.287| 132.027|2019-01-01|11:43|       Cash|125.74|       6.287|   5.0|          3|  11| 0.04761905157467979|       no|\n",
            "|832-51-6761|     a|   yangon|       Normal|  male|  Food and beverages|     33.88|       8| 13.552| 284.592|2019-01-19|20:29|    Ewallet|271.04|      13.552|   9.6|          7|  20|0.047619046023322474|       no|\n",
            "+-----------+------+---------+-------------+------+--------------------+----------+--------+-------+--------+----------+-----+-----------+------+------------+------+-----------+----+--------------------+---------+\n",
            "only showing top 10 rows\n",
            "\n"
          ]
        }
      ]
    },
    {
      "cell_type": "markdown",
      "source": [
        "Categorise customer spending"
      ],
      "metadata": {
        "id": "0A5h3Th5aG0r"
      }
    },
    {
      "cell_type": "code",
      "source": [
        "from pyspark.sql.functions import col, when\n",
        "\n",
        "# Create 'spending_category' column based on the 'total' column\n",
        "df = df.withColumn(\n",
        "    \"spending_category\",\n",
        "    when(col(\"total\") <= 100, \"low\")\n",
        "    .when((col(\"total\") > 100) & (col(\"total\") <= 500), \"medium\")\n",
        "    .otherwise(\"high\")\n",
        ")\n",
        "\n",
        "# Show first 10 rows\n",
        "df.show(10)\n",
        "\n",
        "\n"
      ],
      "metadata": {
        "colab": {
          "base_uri": "https://localhost:8080/"
        },
        "id": "kM4xLjNuaKrt",
        "outputId": "e40bea16-b0c9-4b81-9ebb-730319f889ad"
      },
      "execution_count": null,
      "outputs": [
        {
          "output_type": "stream",
          "name": "stdout",
          "text": [
            "+-----------+------+---------+-------------+------+--------------------+----------+--------+-------+--------+----------+-----+-----------+------+------------+------+-----------+----+--------------------+---------+-----------------+\n",
            "| Invoice ID|Branch|     City|Customer type|Gender|        Product line|Unit price|Quantity| Tax 5%|   Total|      date| Time|    Payment|  cogs|gross income|Rating|day_of_week|hour|       profit_margin|rush_hour|spending_category|\n",
            "+-----------+------+---------+-------------+------+--------------------+----------+--------+-------+--------+----------+-----+-----------+------+------------+------+-----------+----+--------------------+---------+-----------------+\n",
            "|563-91-7120|     a|   yangon|       Normal|female| Fashion accessories|     61.77|       5|15.4425|324.2925|2019-03-08|13:21|       Cash|308.85|     15.4425|   6.7|          6|  13|  0.0476190463587115|      yes|           medium|\n",
            "|633-09-3463|     c|naypyitaw|       Normal|female|Electronic access...|     47.65|       3| 7.1475|150.0975|2019-03-28|12:58|Credit card|142.95|      7.1475|   9.5|          5|  12| 0.04761904671137637|      yes|           medium|\n",
            "|689-16-9784|     c|naypyitaw|       Normal|  male|  Food and beverages|     46.77|       6| 14.031| 294.651|2019-03-11|13:37|       Cash|280.62|      14.031|   6.0|          2|  13|0.047619047927297466|      yes|           medium|\n",
            "|676-39-6028|     a|   yangon|       Member|female|Electronic access...|     64.44|       5|  16.11|  338.31|2019-03-30|17:04|       Cash| 322.2|       16.11|   6.6|          7|  17| 0.04761904976680857|      yes|           medium|\n",
            "|816-72-8853|     a|   yangon|       Member|female|   Sports and travel|     27.93|       5| 6.9825|146.6325|2019-01-29|15:48|       Cash|139.65|      6.9825|   5.9|          3|  15|0.047619045760807714|       no|           medium|\n",
            "|191-10-6171|     b| mandalay|       Normal|female| Fashion accessories|     39.62|       7| 13.867| 291.207|2019-01-25|13:18|       Cash|277.34|      13.867|   7.5|          6|  13|0.047619046215518296|      yes|           medium|\n",
            "|144-51-6085|     a|   yangon|       Member|  male|  Home and lifestyle|     70.74|       4| 14.148| 297.108|2019-01-05|16:05|Credit card|282.96|      14.148|   4.4|          7|  16|0.047619046549095156|       no|           medium|\n",
            "|261-12-8671|     b| mandalay|       Normal|female| Fashion accessories|     60.96|       2|  6.096| 128.016|2019-01-25|19:39|Credit card|121.92|       6.096|   4.9|          6|  19|0.047619046732184644|       no|           medium|\n",
            "|133-14-7229|     c|naypyitaw|       Normal|  male|   Health and beauty|     62.87|       2|  6.287| 132.027|2019-01-01|11:43|       Cash|125.74|       6.287|   5.0|          3|  11| 0.04761905157467979|       no|           medium|\n",
            "|832-51-6761|     a|   yangon|       Normal|  male|  Food and beverages|     33.88|       8| 13.552| 284.592|2019-01-19|20:29|    Ewallet|271.04|      13.552|   9.6|          7|  20|0.047619046023322474|       no|           medium|\n",
            "+-----------+------+---------+-------------+------+--------------------+----------+--------+-------+--------+----------+-----+-----------+------+------------+------+-----------+----+--------------------+---------+-----------------+\n",
            "only showing top 10 rows\n",
            "\n"
          ]
        }
      ]
    },
    {
      "cell_type": "markdown",
      "source": [
        "  Remove the special characters from the specific column"
      ],
      "metadata": {
        "id": "_2sgp_ZpfL5l"
      }
    },
    {
      "cell_type": "markdown",
      "source": [
        "removing the special charcaters"
      ],
      "metadata": {
        "id": "hYtVgUYZd0oK"
      }
    },
    {
      "cell_type": "code",
      "source": [],
      "metadata": {
        "id": "169ewCZ7gDrI"
      },
      "execution_count": null,
      "outputs": []
    },
    {
      "cell_type": "code",
      "source": [
        "from pyspark.sql.functions import regexp_replace\n",
        "\n",
        "# Define a function to clean special characters from all string columns\n",
        "def remove_special_chars(df):\n",
        "    for col_name in df.columns:\n",
        "        df = df.withColumn(col_name, regexp_replace(col(col_name), r\"[^a-zA-Z0-9\\s]\", \"\"))\n",
        "    return df\n",
        "\n",
        "# Apply function to clean dataset\n",
        "df = remove_special_chars(df)\n",
        "\n",
        "# Show cleaned dataset\n",
        "df.show(truncate=False)\n"
      ],
      "metadata": {
        "colab": {
          "base_uri": "https://localhost:8080/"
        },
        "id": "_1KaRDQGd3eJ",
        "outputId": "17dd049b-863c-4811-c9b1-74c7f1a1fd3b"
      },
      "execution_count": null,
      "outputs": [
        {
          "output_type": "stream",
          "name": "stdout",
          "text": [
            "+----------+------+---------+-------------+------+----------------------+----------+--------+------+-------+--------+----+-----------+-----+------------+------+-----------+----+-------------------+---------+-----------------+\n",
            "|Invoice ID|Branch|City     |Customer type|Gender|Product line          |Unit price|Quantity|Tax 5%|Total  |date    |Time|Payment    |cogs |gross income|Rating|day_of_week|hour|profit_margin      |rush_hour|spending_category|\n",
            "+----------+------+---------+-------------+------+----------------------+----------+--------+------+-------+--------+----+-----------+-----+------------+------+-----------+----+-------------------+---------+-----------------+\n",
            "|563917120 |a     |yangon   |Normal       |female|Fashion accessories   |6177      |5       |154425|3242925|20190308|1321|Cash       |30885|154425      |67    |6          |13  |00476190463587115  |yes      |medium           |\n",
            "|633093463 |c     |naypyitaw|Normal       |female|Electronic accessories|4765      |3       |71475 |1500975|20190328|1258|Credit card|14295|71475       |95    |5          |12  |004761904671137637 |yes      |medium           |\n",
            "|689169784 |c     |naypyitaw|Normal       |male  |Food and beverages    |4677      |6       |14031 |294651 |20190311|1337|Cash       |28062|14031       |60    |2          |13  |0047619047927297466|yes      |medium           |\n",
            "|676396028 |a     |yangon   |Member       |female|Electronic accessories|6444      |5       |1611  |33831  |20190330|1704|Cash       |3222 |1611        |66    |7          |17  |004761904976680857 |yes      |medium           |\n",
            "|816728853 |a     |yangon   |Member       |female|Sports and travel     |2793      |5       |69825 |1466325|20190129|1548|Cash       |13965|69825       |59    |3          |15  |0047619045760807714|no       |medium           |\n",
            "|191106171 |b     |mandalay |Normal       |female|Fashion accessories   |3962      |7       |13867 |291207 |20190125|1318|Cash       |27734|13867       |75    |6          |13  |0047619046215518296|yes      |medium           |\n",
            "|144516085 |a     |yangon   |Member       |male  |Home and lifestyle    |7074      |4       |14148 |297108 |20190105|1605|Credit card|28296|14148       |44    |7          |16  |0047619046549095156|no       |medium           |\n",
            "|261128671 |b     |mandalay |Normal       |female|Fashion accessories   |6096      |2       |6096  |128016 |20190125|1939|Credit card|12192|6096        |49    |6          |19  |0047619046732184644|no       |medium           |\n",
            "|133147229 |c     |naypyitaw|Normal       |male  |Health and beauty     |6287      |2       |6287  |132027 |20190101|1143|Cash       |12574|6287        |50    |3          |11  |004761905157467979 |no       |medium           |\n",
            "|832516761 |a     |yangon   |Normal       |male  |Food and beverages    |3388      |8       |13552 |284592 |20190119|2029|Ewallet    |27104|13552       |96    |7          |20  |0047619046023322474|no       |medium           |\n",
            "|852822749 |a     |yangon   |Normal       |male  |Sports and travel     |6459      |4       |12918 |271278 |20190106|1335|Ewallet    |25836|12918       |93    |1          |13  |0047619045777602086|yes      |medium           |\n",
            "|544325024 |c     |naypyitaw|Member       |female|Food and beverages    |4979      |4       |9958  |209118 |20190328|1916|Credit card|19916|9958        |64    |5          |19  |004761904935636582 |no       |medium           |\n",
            "|188550967 |b     |mandalay |Member       |male  |Health and beauty     |6647      |10      |33235 |697935 |20190115|1501|Credit card|6647 |33235       |50    |3          |15  |004761904866013168 |no       |high             |\n",
            "|183213799 |c     |naypyitaw|Normal       |female|Electronic accessories|7763      |9       |349335|7336035|20190219|1514|Ewallet    |69867|349335      |72    |3          |15  |004761904440003461 |no       |high             |\n",
            "|787560757 |c     |naypyitaw|Member       |female|Food and beverages    |8036      |4       |16072 |337512 |20190223|1845|Credit card|32144|16072       |83    |7          |18  |004761905004099156 |yes      |medium           |\n",
            "|213726612 |a     |yangon   |Normal       |male  |Food and beverages    |4325      |2       |4325  |90825  |20190320|1556|Cash       |865  |4325        |62    |4          |15  |0047619047119041406|no       |low              |\n",
            "|484228230 |c     |naypyitaw|Member       |female|Fashion accessories   |5189      |7       |181615|3813915|20190108|2008|Cash       |36323|181615      |45    |3          |20  |004761904880976796 |no       |medium           |\n",
            "|528875606 |b     |mandalay |Member       |female|Electronic accessories|3948      |1       |1974  |41454  |20190212|1943|Cash       |3948 |1974        |65    |3          |19  |0047619048714552616|no       |low              |\n",
            "|182527000 |a     |yangon   |Member       |female|Sports and travel     |2704      |4       |5408  |113568 |20190101|2026|Ewallet    |10816|5408        |69    |3          |20  |00476190472191721  |no       |medium           |\n",
            "|775721988 |b     |mandalay |Normal       |male  |Home and lifestyle    |7328      |5       |1832  |38472  |20190124|1505|Ewallet    |3664 |1832        |84    |5          |15  |004761904667471278 |no       |medium           |\n",
            "+----------+------+---------+-------------+------+----------------------+----------+--------+------+-------+--------+----+-----------+-----+------------+------+-----------+----+-------------------+---------+-----------------+\n",
            "only showing top 20 rows\n",
            "\n"
          ]
        }
      ]
    },
    {
      "cell_type": "markdown",
      "source": [
        "checking the data types and null values"
      ],
      "metadata": {
        "id": "erdgsAtaaxlD"
      }
    },
    {
      "cell_type": "code",
      "source": [
        "from pyspark.sql.functions import col, sum\n",
        "\n",
        "# Check for missing values in each column\n",
        "print(\"Missing Values:\")\n",
        "df.select([sum(col(c).isNull().cast(\"int\")).alias(c) for c in df.columns]).show()\n",
        "\n",
        "# Check data types of each column\n",
        "print(\"\\nData Types:\")\n",
        "df.printSchema()\n",
        "\n",
        "# Show first few rows\n",
        "df.show(5)\n"
      ],
      "metadata": {
        "colab": {
          "base_uri": "https://localhost:8080/"
        },
        "id": "uIlcLZQEa0Qx",
        "outputId": "4472739e-2056-49b4-d607-adae6bf70c9c"
      },
      "execution_count": null,
      "outputs": [
        {
          "output_type": "stream",
          "name": "stdout",
          "text": [
            "Missing Values:\n",
            "+----------+------+----+-------------+------+------------+----------+--------+------+-----+----+----+-------+----+------------+------+-----------+----+-------------+---------+-----------------+\n",
            "|Invoice ID|Branch|City|Customer type|Gender|Product line|Unit price|Quantity|Tax 5%|Total|date|Time|Payment|cogs|gross income|Rating|day_of_week|hour|profit_margin|rush_hour|spending_category|\n",
            "+----------+------+----+-------------+------+------------+----------+--------+------+-----+----+----+-------+----+------------+------+-----------+----+-------------+---------+-----------------+\n",
            "|         0|     0|   0|            0|     0|           0|         0|       0|     0|    0|   0|   0|      0|   0|           0|     0|          0|   0|            0|        0|                0|\n",
            "+----------+------+----+-------------+------+------------+----------+--------+------+-----+----+----+-------+----+------------+------+-----------+----+-------------+---------+-----------------+\n",
            "\n",
            "\n",
            "Data Types:\n",
            "root\n",
            " |-- Invoice ID: string (nullable = true)\n",
            " |-- Branch: string (nullable = true)\n",
            " |-- City: string (nullable = true)\n",
            " |-- Customer type: string (nullable = true)\n",
            " |-- Gender: string (nullable = true)\n",
            " |-- Product line: string (nullable = true)\n",
            " |-- Unit price: string (nullable = true)\n",
            " |-- Quantity: string (nullable = true)\n",
            " |-- Tax 5%: string (nullable = true)\n",
            " |-- Total: string (nullable = true)\n",
            " |-- date: string (nullable = true)\n",
            " |-- Time: string (nullable = true)\n",
            " |-- Payment: string (nullable = true)\n",
            " |-- cogs: string (nullable = true)\n",
            " |-- gross income: string (nullable = true)\n",
            " |-- Rating: string (nullable = true)\n",
            " |-- day_of_week: string (nullable = true)\n",
            " |-- hour: string (nullable = true)\n",
            " |-- profit_margin: string (nullable = true)\n",
            " |-- rush_hour: string (nullable = false)\n",
            " |-- spending_category: string (nullable = false)\n",
            "\n",
            "+----------+------+---------+-------------+------+--------------------+----------+--------+------+-------+--------+----+-----------+-----+------------+------+-----------+----+-------------------+---------+-----------------+\n",
            "|Invoice ID|Branch|     City|Customer type|Gender|        Product line|Unit price|Quantity|Tax 5%|  Total|    date|Time|    Payment| cogs|gross income|Rating|day_of_week|hour|      profit_margin|rush_hour|spending_category|\n",
            "+----------+------+---------+-------------+------+--------------------+----------+--------+------+-------+--------+----+-----------+-----+------------+------+-----------+----+-------------------+---------+-----------------+\n",
            "| 563917120|     a|   yangon|       Normal|female| Fashion accessories|      6177|       5|154425|3242925|20190308|1321|       Cash|30885|      154425|    67|          6|  13|  00476190463587115|      yes|           medium|\n",
            "| 633093463|     c|naypyitaw|       Normal|female|Electronic access...|      4765|       3| 71475|1500975|20190328|1258|Credit card|14295|       71475|    95|          5|  12| 004761904671137637|      yes|           medium|\n",
            "| 689169784|     c|naypyitaw|       Normal|  male|  Food and beverages|      4677|       6| 14031| 294651|20190311|1337|       Cash|28062|       14031|    60|          2|  13|0047619047927297466|      yes|           medium|\n",
            "| 676396028|     a|   yangon|       Member|female|Electronic access...|      6444|       5|  1611|  33831|20190330|1704|       Cash| 3222|        1611|    66|          7|  17| 004761904976680857|      yes|           medium|\n",
            "| 816728853|     a|   yangon|       Member|female|   Sports and travel|      2793|       5| 69825|1466325|20190129|1548|       Cash|13965|       69825|    59|          3|  15|0047619045760807714|       no|           medium|\n",
            "+----------+------+---------+-------------+------+--------------------+----------+--------+------+-------+--------+----+-----------+-----+------------+------+-----------+----+-------------------+---------+-----------------+\n",
            "only showing top 5 rows\n",
            "\n"
          ]
        }
      ]
    },
    {
      "cell_type": "markdown",
      "source": [
        "Monhly sales trend"
      ],
      "metadata": {
        "id": "nDT0m3TKcOJV"
      }
    },
    {
      "cell_type": "code",
      "source": [
        "from pyspark.sql.functions import year, month, sum\n",
        "\n",
        "monthly_sales = df.groupBy((df[\"spending_category\"]).alias(\"spending_Range\"))\\\n",
        "                  .agg(sum(\"Total\").alias(\"Total Revenue\"))\n",
        "monthly_sales.show()\n"
      ],
      "metadata": {
        "colab": {
          "base_uri": "https://localhost:8080/"
        },
        "id": "NDKGokIhcQ_F",
        "outputId": "4bd5415d-d751-46f5-ea07-da7d493189ec"
      },
      "execution_count": null,
      "outputs": [
        {
          "output_type": "stream",
          "name": "stdout",
          "text": [
            "+--------------+-------------+\n",
            "|spending_Range|Total Revenue|\n",
            "+--------------+-------------+\n",
            "|           low|  4.9841379E7|\n",
            "|          high| 3.96386655E8|\n",
            "|        medium| 4.30843812E8|\n",
            "+--------------+-------------+\n",
            "\n"
          ]
        }
      ]
    },
    {
      "cell_type": "markdown",
      "source": [
        "top selling product categories"
      ],
      "metadata": {
        "id": "Zq0RD0_LcTY6"
      }
    },
    {
      "cell_type": "code",
      "source": [
        "top_products = df.groupBy(\"Product line\")\\\n",
        "                 .agg(sum(\"Quantity\").alias(\"Total Sold\"))\\\n",
        "                 .orderBy(\"Total Sold\", ascending=False)\n",
        "\n",
        "top_products.show()\n"
      ],
      "metadata": {
        "colab": {
          "base_uri": "https://localhost:8080/"
        },
        "id": "VS8MUBFTdZI3",
        "outputId": "a7b65a32-9275-4d2e-8fe5-80c4a1ab2397"
      },
      "execution_count": null,
      "outputs": [
        {
          "output_type": "stream",
          "name": "stdout",
          "text": [
            "+--------------------+----------+\n",
            "|        Product line|Total Sold|\n",
            "+--------------------+----------+\n",
            "|Electronic access...|     971.0|\n",
            "|  Food and beverages|     952.0|\n",
            "|   Sports and travel|     920.0|\n",
            "|  Home and lifestyle|     911.0|\n",
            "| Fashion accessories|     902.0|\n",
            "|   Health and beauty|     854.0|\n",
            "+--------------------+----------+\n",
            "\n"
          ]
        }
      ]
    },
    {
      "cell_type": "markdown",
      "source": [
        "best performance store loactions"
      ],
      "metadata": {
        "id": "kFY851bhdhE0"
      }
    },
    {
      "cell_type": "code",
      "source": [
        "store_performance = df.groupBy(\"City\")\\\n",
        "                      .agg(sum(\"Total\").alias(\"Total Sales\"))\\\n",
        "                      .orderBy(\"Total Sales\", ascending=False)\n",
        "\n",
        "store_performance.show()\n"
      ],
      "metadata": {
        "colab": {
          "base_uri": "https://localhost:8080/"
        },
        "id": "s-GKTsK8djWK",
        "outputId": "16798308-1283-4aa4-97aa-3e1bb13713a7"
      },
      "execution_count": null,
      "outputs": [
        {
          "output_type": "stream",
          "name": "stdout",
          "text": [
            "+---------+------------+\n",
            "|     City| Total Sales|\n",
            "+---------+------------+\n",
            "|naypyitaw|3.03677094E8|\n",
            "| mandalay|2.91910206E8|\n",
            "|   yangon|2.81484546E8|\n",
            "+---------+------------+\n",
            "\n"
          ]
        }
      ]
    },
    {
      "cell_type": "markdown",
      "source": [
        "Average rating by each store location"
      ],
      "metadata": {
        "id": "MZJihmuwgmJQ"
      }
    },
    {
      "cell_type": "code",
      "source": [
        "from pyspark.sql.functions import avg\n",
        "\n",
        "avg_ratings = df.groupBy(\"City\")\\\n",
        "                .agg(avg(\"Rating\").alias(\"Avg Rating\"))\\\n",
        "                .orderBy(\"Avg Rating\", ascending=False)\n",
        "\n",
        "avg_ratings.show()\n"
      ],
      "metadata": {
        "colab": {
          "base_uri": "https://localhost:8080/"
        },
        "id": "sc4QREgogjfp",
        "outputId": "567f721a-c3b2-4def-8df7-ed842a47245d"
      },
      "execution_count": null,
      "outputs": [
        {
          "output_type": "stream",
          "name": "stdout",
          "text": [
            "+---------+-----------------+\n",
            "|     City|       Avg Rating|\n",
            "+---------+-----------------+\n",
            "|naypyitaw|70.72865853658537|\n",
            "|   yangon|70.27058823529411|\n",
            "| mandalay|68.18072289156626|\n",
            "+---------+-----------------+\n",
            "\n"
          ]
        }
      ]
    },
    {
      "cell_type": "markdown",
      "source": [
        "categorise rating"
      ],
      "metadata": {
        "id": "3wewFWmIhGGq"
      }
    },
    {
      "cell_type": "code",
      "source": [
        "from pyspark.sql.functions import col, when, avg\n",
        "\n",
        "# Categorize rating into sentiment\n",
        "df = df.withColumn(\n",
        "    \"rating_sentiment\",\n",
        "    when(col(\"rating\") <= 40, \"negative\")\n",
        "    .when(col(\"rating\") <= 70, \"neutral\")\n",
        "    .otherwise(\"positive\")\n",
        ")\n",
        "\n",
        "# Compute the average rating per product line\n",
        "rating_avg = df.groupBy(\"product line\").agg(avg(\"rating\").alias(\"avg_product_rating\"))\n",
        "\n",
        "# Merge the average rating back to the original DataFrame\n",
        "df = df.join(rating_avg, on=\"product line\", how=\"left\")\n",
        "\n",
        "# Show results\n",
        "df.show()\n",
        "\n"
      ],
      "metadata": {
        "colab": {
          "base_uri": "https://localhost:8080/"
        },
        "id": "ph5MvFBjhFp2",
        "outputId": "6f785588-2931-4ea8-8f4a-0b1a70e9f60a"
      },
      "execution_count": null,
      "outputs": [
        {
          "output_type": "stream",
          "name": "stdout",
          "text": [
            "+--------------------+----------+------+---------+-------------+------+----------+--------+------+-------+--------+----+-----------+-----+------------+------+-----------+----+-------------------+---------+-----------------+----------------+------------------+\n",
            "|        Product line|Invoice ID|Branch|     City|Customer type|Gender|Unit price|Quantity|Tax 5%|  Total|    date|Time|    Payment| cogs|gross income|Rating|day_of_week|hour|      profit_margin|rush_hour|spending_category|rating_sentiment|avg_product_rating|\n",
            "+--------------------+----------+------+---------+-------------+------+----------+--------+------+-------+--------+----+-----------+-----+------------+------+-----------+----+-------------------+---------+-----------------+----------------+------------------+\n",
            "| Fashion accessories| 563917120|     a|   yangon|       Normal|female|      6177|       5|154425|3242925|20190308|1321|       Cash|30885|      154425|    67|          6|  13|  00476190463587115|      yes|           medium|         neutral| 70.29213483146067|\n",
            "|Electronic access...| 633093463|     c|naypyitaw|       Normal|female|      4765|       3| 71475|1500975|20190328|1258|Credit card|14295|       71475|    95|          5|  12| 004761904671137637|      yes|           medium|        positive| 69.24705882352941|\n",
            "|  Food and beverages| 689169784|     c|naypyitaw|       Normal|  male|      4677|       6| 14031| 294651|20190311|1337|       Cash|28062|       14031|    60|          2|  13|0047619047927297466|      yes|           medium|         neutral| 71.13218390804597|\n",
            "|Electronic access...| 676396028|     a|   yangon|       Member|female|      6444|       5|  1611|  33831|20190330|1704|       Cash| 3222|        1611|    66|          7|  17| 004761904976680857|      yes|           medium|         neutral| 69.24705882352941|\n",
            "|   Sports and travel| 816728853|     a|   yangon|       Member|female|      2793|       5| 69825|1466325|20190129|1548|       Cash|13965|       69825|    59|          3|  15|0047619045760807714|       no|           medium|         neutral| 69.16265060240964|\n",
            "| Fashion accessories| 191106171|     b| mandalay|       Normal|female|      3962|       7| 13867| 291207|20190125|1318|       Cash|27734|       13867|    75|          6|  13|0047619046215518296|      yes|           medium|        positive| 70.29213483146067|\n",
            "|  Home and lifestyle| 144516085|     a|   yangon|       Member|  male|      7074|       4| 14148| 297108|20190105|1605|Credit card|28296|       14148|    44|          7|  16|0047619046549095156|       no|           medium|         neutral|            68.375|\n",
            "| Fashion accessories| 261128671|     b| mandalay|       Normal|female|      6096|       2|  6096| 128016|20190125|1939|Credit card|12192|        6096|    49|          6|  19|0047619046732184644|       no|           medium|         neutral| 70.29213483146067|\n",
            "|   Health and beauty| 133147229|     c|naypyitaw|       Normal|  male|      6287|       2|  6287| 132027|20190101|1143|       Cash|12574|        6287|    50|          3|  11| 004761905157467979|       no|           medium|         neutral| 70.03289473684211|\n",
            "|  Food and beverages| 832516761|     a|   yangon|       Normal|  male|      3388|       8| 13552| 284592|20190119|2029|    Ewallet|27104|       13552|    96|          7|  20|0047619046023322474|       no|           medium|        positive| 71.13218390804597|\n",
            "|   Sports and travel| 852822749|     a|   yangon|       Normal|  male|      6459|       4| 12918| 271278|20190106|1335|    Ewallet|25836|       12918|    93|          1|  13|0047619045777602086|      yes|           medium|        positive| 69.16265060240964|\n",
            "|  Food and beverages| 544325024|     c|naypyitaw|       Member|female|      4979|       4|  9958| 209118|20190328|1916|Credit card|19916|        9958|    64|          5|  19| 004761904935636582|       no|           medium|         neutral| 71.13218390804597|\n",
            "|   Health and beauty| 188550967|     b| mandalay|       Member|  male|      6647|      10| 33235| 697935|20190115|1501|Credit card| 6647|       33235|    50|          3|  15| 004761904866013168|       no|             high|         neutral| 70.03289473684211|\n",
            "|Electronic access...| 183213799|     c|naypyitaw|       Normal|female|      7763|       9|349335|7336035|20190219|1514|    Ewallet|69867|      349335|    72|          3|  15| 004761904440003461|       no|             high|        positive| 69.24705882352941|\n",
            "|  Food and beverages| 787560757|     c|naypyitaw|       Member|female|      8036|       4| 16072| 337512|20190223|1845|Credit card|32144|       16072|    83|          7|  18| 004761905004099156|      yes|           medium|        positive| 71.13218390804597|\n",
            "|  Food and beverages| 213726612|     a|   yangon|       Normal|  male|      4325|       2|  4325|  90825|20190320|1556|       Cash|  865|        4325|    62|          4|  15|0047619047119041406|       no|              low|         neutral| 71.13218390804597|\n",
            "| Fashion accessories| 484228230|     c|naypyitaw|       Member|female|      5189|       7|181615|3813915|20190108|2008|       Cash|36323|      181615|    45|          3|  20| 004761904880976796|       no|           medium|         neutral| 70.29213483146067|\n",
            "|Electronic access...| 528875606|     b| mandalay|       Member|female|      3948|       1|  1974|  41454|20190212|1943|       Cash| 3948|        1974|    65|          3|  19|0047619048714552616|       no|              low|         neutral| 69.24705882352941|\n",
            "|   Sports and travel| 182527000|     a|   yangon|       Member|female|      2704|       4|  5408| 113568|20190101|2026|    Ewallet|10816|        5408|    69|          3|  20|  00476190472191721|       no|           medium|         neutral| 69.16265060240964|\n",
            "|  Home and lifestyle| 775721988|     b| mandalay|       Normal|  male|      7328|       5|  1832|  38472|20190124|1505|    Ewallet| 3664|        1832|    84|          5|  15| 004761904667471278|       no|           medium|        positive|            68.375|\n",
            "+--------------------+----------+------+---------+-------------+------+----------+--------+------+-------+--------+----+-----------+-----+------------+------+-----------+----+-------------------+---------+-----------------+----------------+------------------+\n",
            "only showing top 20 rows\n",
            "\n"
          ]
        }
      ]
    },
    {
      "cell_type": "code",
      "source": [
        "from pyspark.sql.functions import sum, avg, count\n",
        "\n",
        "# Compute payment summary\n",
        "payment_summary = df.groupBy(\"payment\").agg(\n",
        "    sum(\"total\").alias(\"total_revenue\"),\n",
        "    avg(\"total\").alias(\"avg_transaction\"),\n",
        "    count(\"payment\").alias(\"num_transactions\")\n",
        ")\n",
        "\n",
        "# Join the summary back to the original dataframe\n",
        "df = df.join(payment_summary, on=\"payment\", how=\"left\")\n",
        "\n",
        "# Show the results\n",
        "df.show()\n"
      ],
      "metadata": {
        "colab": {
          "base_uri": "https://localhost:8080/"
        },
        "id": "OWWClR1mifiM",
        "outputId": "946a4207-68e5-4946-fdac-de299e8425f9"
      },
      "execution_count": null,
      "outputs": [
        {
          "output_type": "stream",
          "name": "stdout",
          "text": [
            "+-----------+--------------------+----------+------+---------+-------------+------+----------+--------+------+-------+--------+----+-----+------------+------+-----------+----+-------------------+---------+-----------------+----------------+------------------+-------------+-----------------+----------------+\n",
            "|    Payment|        Product line|Invoice ID|Branch|     City|Customer type|Gender|Unit price|Quantity|Tax 5%|  Total|    date|Time| cogs|gross income|Rating|day_of_week|hour|      profit_margin|rush_hour|spending_category|rating_sentiment|avg_product_rating|total_revenue|  avg_transaction|num_transactions|\n",
            "+-----------+--------------------+----------+------+---------+-------------+------+----------+--------+------+-------+--------+----+-----+------------+------+-----------+----+-------------------+---------+-----------------+----------------+------------------+-------------+-----------------+----------------+\n",
            "|       Cash| Fashion accessories| 563917120|     a|   yangon|       Normal|female|      6177|       5|154425|3242925|20190308|1321|30885|      154425|    67|          6|  13|  00476190463587115|      yes|           medium|         neutral| 70.29213483146067| 3.10603461E8|902917.0377906977|             344|\n",
            "|Credit card|Electronic access...| 633093463|     c|naypyitaw|       Normal|female|      4765|       3| 71475|1500975|20190328|1258|14295|       71475|    95|          5|  12| 004761904671137637|      yes|           medium|        positive| 69.24705882352941| 2.70194988E8|868794.1736334405|             311|\n",
            "|       Cash|  Food and beverages| 689169784|     c|naypyitaw|       Normal|  male|      4677|       6| 14031| 294651|20190311|1337|28062|       14031|    60|          2|  13|0047619047927297466|      yes|           medium|         neutral| 71.13218390804597| 3.10603461E8|902917.0377906977|             344|\n",
            "|       Cash|Electronic access...| 676396028|     a|   yangon|       Member|female|      6444|       5|  1611|  33831|20190330|1704| 3222|        1611|    66|          7|  17| 004761904976680857|      yes|           medium|         neutral| 69.24705882352941| 3.10603461E8|902917.0377906977|             344|\n",
            "|       Cash|   Sports and travel| 816728853|     a|   yangon|       Member|female|      2793|       5| 69825|1466325|20190129|1548|13965|       69825|    59|          3|  15|0047619045760807714|       no|           medium|         neutral| 69.16265060240964| 3.10603461E8|902917.0377906977|             344|\n",
            "|       Cash| Fashion accessories| 191106171|     b| mandalay|       Normal|female|      3962|       7| 13867| 291207|20190125|1318|27734|       13867|    75|          6|  13|0047619046215518296|      yes|           medium|        positive| 70.29213483146067| 3.10603461E8|902917.0377906977|             344|\n",
            "|Credit card|  Home and lifestyle| 144516085|     a|   yangon|       Member|  male|      7074|       4| 14148| 297108|20190105|1605|28296|       14148|    44|          7|  16|0047619046549095156|       no|           medium|         neutral|            68.375| 2.70194988E8|868794.1736334405|             311|\n",
            "|Credit card| Fashion accessories| 261128671|     b| mandalay|       Normal|female|      6096|       2|  6096| 128016|20190125|1939|12192|        6096|    49|          6|  19|0047619046732184644|       no|           medium|         neutral| 70.29213483146067| 2.70194988E8|868794.1736334405|             311|\n",
            "|       Cash|   Health and beauty| 133147229|     c|naypyitaw|       Normal|  male|      6287|       2|  6287| 132027|20190101|1143|12574|        6287|    50|          3|  11| 004761905157467979|       no|           medium|         neutral| 70.03289473684211| 3.10603461E8|902917.0377906977|             344|\n",
            "|    Ewallet|  Food and beverages| 832516761|     a|   yangon|       Normal|  male|      3388|       8| 13552| 284592|20190119|2029|27104|       13552|    96|          7|  20|0047619046023322474|       no|           medium|        positive| 71.13218390804597| 2.96273397E8|858763.4695652174|             345|\n",
            "|    Ewallet|   Sports and travel| 852822749|     a|   yangon|       Normal|  male|      6459|       4| 12918| 271278|20190106|1335|25836|       12918|    93|          1|  13|0047619045777602086|      yes|           medium|        positive| 69.16265060240964| 2.96273397E8|858763.4695652174|             345|\n",
            "|Credit card|  Food and beverages| 544325024|     c|naypyitaw|       Member|female|      4979|       4|  9958| 209118|20190328|1916|19916|        9958|    64|          5|  19| 004761904935636582|       no|           medium|         neutral| 71.13218390804597| 2.70194988E8|868794.1736334405|             311|\n",
            "|Credit card|   Health and beauty| 188550967|     b| mandalay|       Member|  male|      6647|      10| 33235| 697935|20190115|1501| 6647|       33235|    50|          3|  15| 004761904866013168|       no|             high|         neutral| 70.03289473684211| 2.70194988E8|868794.1736334405|             311|\n",
            "|    Ewallet|Electronic access...| 183213799|     c|naypyitaw|       Normal|female|      7763|       9|349335|7336035|20190219|1514|69867|      349335|    72|          3|  15| 004761904440003461|       no|             high|        positive| 69.24705882352941| 2.96273397E8|858763.4695652174|             345|\n",
            "|Credit card|  Food and beverages| 787560757|     c|naypyitaw|       Member|female|      8036|       4| 16072| 337512|20190223|1845|32144|       16072|    83|          7|  18| 004761905004099156|      yes|           medium|        positive| 71.13218390804597| 2.70194988E8|868794.1736334405|             311|\n",
            "|       Cash|  Food and beverages| 213726612|     a|   yangon|       Normal|  male|      4325|       2|  4325|  90825|20190320|1556|  865|        4325|    62|          4|  15|0047619047119041406|       no|              low|         neutral| 71.13218390804597| 3.10603461E8|902917.0377906977|             344|\n",
            "|       Cash| Fashion accessories| 484228230|     c|naypyitaw|       Member|female|      5189|       7|181615|3813915|20190108|2008|36323|      181615|    45|          3|  20| 004761904880976796|       no|           medium|         neutral| 70.29213483146067| 3.10603461E8|902917.0377906977|             344|\n",
            "|       Cash|Electronic access...| 528875606|     b| mandalay|       Member|female|      3948|       1|  1974|  41454|20190212|1943| 3948|        1974|    65|          3|  19|0047619048714552616|       no|              low|         neutral| 69.24705882352941| 3.10603461E8|902917.0377906977|             344|\n",
            "|    Ewallet|   Sports and travel| 182527000|     a|   yangon|       Member|female|      2704|       4|  5408| 113568|20190101|2026|10816|        5408|    69|          3|  20|  00476190472191721|       no|           medium|         neutral| 69.16265060240964| 2.96273397E8|858763.4695652174|             345|\n",
            "|    Ewallet|  Home and lifestyle| 775721988|     b| mandalay|       Normal|  male|      7328|       5|  1832|  38472|20190124|1505| 3664|        1832|    84|          5|  15| 004761904667471278|       no|           medium|        positive|            68.375| 2.96273397E8|858763.4695652174|             345|\n",
            "+-----------+--------------------+----------+------+---------+-------------+------+----------+--------+------+-------+--------+----+-----+------------+------+-----------+----+-------------------+---------+-----------------+----------------+------------------+-------------+-----------------+----------------+\n",
            "only showing top 20 rows\n",
            "\n"
          ]
        }
      ]
    },
    {
      "cell_type": "code",
      "source": [
        "\n",
        "\n",
        "from google.colab import drive\n",
        "drive.mount('/content/drive')"
      ],
      "metadata": {
        "colab": {
          "base_uri": "https://localhost:8080/"
        },
        "id": "Bg1qYY6hkUpw",
        "outputId": "5c147847-8cb9-4fca-b703-eee4af824469"
      },
      "execution_count": null,
      "outputs": [
        {
          "output_type": "stream",
          "name": "stdout",
          "text": [
            "Mounted at /content/drive\n"
          ]
        }
      ]
    },
    {
      "cell_type": "code",
      "source": [
        "df.write.csv(\"/content/drive/My Drive/transformed_supermarket_sales\", header=True, mode=\"overwrite\")"
      ],
      "metadata": {
        "id": "d8P-PCKHnIkE"
      },
      "execution_count": null,
      "outputs": []
    }
  ]
}